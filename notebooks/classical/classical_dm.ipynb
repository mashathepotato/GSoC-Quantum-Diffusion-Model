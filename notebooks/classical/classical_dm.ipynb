{
 "cells": [
  {
   "cell_type": "markdown",
   "metadata": {},
   "source": [
    "## Classical Diffusion Model ##\n",
    "\n",
    "This architecture follows the quantum diffusion model structure, training the same number of parameters, using the same number of layers, and following the same complexity. It is used as a baseline for comparison between the classical and quantum models for the same tasks."
   ]
  },
  {
   "cell_type": "markdown",
   "metadata": {},
   "source": [
    "First, a classical model without the quantum layer but with the same shapes and encodings."
   ]
  },
  {
   "cell_type": "code",
   "execution_count": 14,
   "metadata": {},
   "outputs": [
    {
     "data": {
      "text/plain": [
       "[<matplotlib.lines.Line2D at 0x1ca1ceb6790>]"
      ]
     },
     "execution_count": 14,
     "metadata": {},
     "output_type": "execute_result"
    },
    {
     "data": {
      "image/png": "[encoded data removed]",
      "text/plain": [
       "<Figure size 640x480 with 1 Axes>"
      ]
     },
     "metadata": {},
     "output_type": "display_data"
    }
   ],
   "source": [
    "import numpy as np\n",
    "import torch\n",
    "import torch.nn as nn\n",
    "import torch.optim as optim\n",
    "import matplotlib.pyplot as plt\n",
    "import h5py\n",
    "import scipy.linalg\n",
    "\n",
    "filename = \"C:/Users/realc/OneDrive/Documents/GSOC/data/small_QG2_train_normalized_16_xl\"\n",
    "data_X = np.array(h5py.File(filename, \"r\")['X'])\n",
    "\n",
    "def scramble_state_vectors(encoded_data, seed):\n",
    "    np.random.seed(seed)\n",
    "    scrambled_vectors = []\n",
    "    for i in range(len(encoded_data)):\n",
    "        # scrambled_state = np.random.permutation(encoded_data[i].flatten())\n",
    "        gaussian_matrix = np.random.normal(0, 0.1, (16, 16))\n",
    "        scrambled_state = np.multiply(gaussian_matrix, encoded_data[i])\n",
    "        scrambled_vectors.append(scrambled_state)\n",
    "    return np.array(scrambled_vectors).reshape(len(encoded_data), 8, 8, 4)\n",
    "\n",
    "def reshape_scrambled_states(scrambled_states):\n",
    "    reshaped_scrambled_states = scrambled_states.reshape(scrambled_states.shape[0], 8, 8, 4)\n",
    "    return reshaped_scrambled_states\n",
    "\n",
    "def visualize_data(original_data, encoded_data, sample_index=0):\n",
    "    fig, axes = plt.subplots(1, 2, figsize=(10, 5))\n",
    "    \n",
    "    axes[0].imshow(original_data[sample_index], cmap='viridis')\n",
    "    axes[0].set_title(\"Original Data\")\n",
    "    \n",
    "    axes[1].imshow(encoded_data[sample_index], cmap='viridis')\n",
    "    axes[1].set_title(\"AAA Data\")\n",
    "    \n",
    "    plt.tight_layout()\n",
    "    plt.show()\n",
    "\n",
    "class ClassicalDiffusionModel(nn.Module):\n",
    "    def __init__(self, input_dim, hidden_dim, output_dim):\n",
    "        super(ClassicalDiffusionModel, self).__init__()\n",
    "        self.fc1 = nn.Linear(input_dim, hidden_dim)\n",
    "        self.fc2 = nn.Linear(hidden_dim, hidden_dim)\n",
    "        self.fc3 = nn.Linear(hidden_dim, output_dim)\n",
    "        self.dropout = nn.Dropout(0.2)\n",
    "\n",
    "    def forward(self, x):\n",
    "        x = torch.relu(self.fc1(x))\n",
    "        x = self.dropout(x)\n",
    "        x = torch.relu(self.fc2(x))\n",
    "        x = self.fc3(x)\n",
    "        return x\n",
    "\n",
    "input_dim = 8 * 8 * 4\n",
    "hidden_dim = 128\n",
    "output_dim = 8 * 8 * 4\n",
    "\n",
    "model = ClassicalDiffusionModel(input_dim, hidden_dim, output_dim)\n",
    "criterion = nn.MSELoss()\n",
    "optimizer = optim.Adam(model.parameters(), lr=0.01)\n",
    "\n",
    "num_samples = 10000\n",
    "num_epochs = 50\n",
    "loss_values = []\n",
    "\n",
    "scrambled_states = scramble_state_vectors(data_X[:num_samples], seed=42)\n",
    "scrambled_states = torch.tensor(scrambled_states, dtype=torch.float32).view(num_samples, -1)\n",
    "encoded_data = torch.tensor(data_X[:num_samples], dtype=torch.float32).view(num_samples, -1)\n",
    "# plt.plot(scrambled_states[0])\n",
    "plt.plot(scrambled_states[4])\n",
    "plt.plot(encoded_data[4])"
   ]
  },
  {
   "cell_type": "code",
   "execution_count": null,
   "metadata": {},
   "outputs": [],
   "source": [
    "\n",
    "for epoch in range(num_epochs):\n",
    "    optimizer.zero_grad()\n",
    "    outputs = model(scrambled_states)\n",
    "    loss = criterion(outputs, encoded_data)\n",
    "    loss.backward()\n",
    "    optimizer.step()\n",
    "    loss_values.append(loss.item())\n",
    "    print(f'Epoch [{epoch+1}/{num_epochs}], Loss: {loss.item():.4f}')\n",
    "\n",
    "plt.plot(loss_values)\n",
    "plt.xlabel('Epoch')\n",
    "plt.ylabel('Loss')\n",
    "plt.title('Training Loss Over Epochs')\n",
    "plt.show()\n",
    "\n",
    "denoised_states = model(scrambled_states).view(num_samples, 8, 8, 4).detach().numpy()\n",
    "visualize_data(data_X, denoised_states, sample_index=0)\n",
    "\n",
    "def decode(encoded_data):\n",
    "    num_samples, encoded_height, encoded_width, num_qubits = encoded_data.shape\n",
    "    decoded_data = np.zeros((num_samples, 16, 16))\n",
    "\n",
    "    for sample in range(num_samples):\n",
    "        for i in range(encoded_height):\n",
    "            for j in range(encoded_width):\n",
    "                for c in range(num_qubits):\n",
    "                    if c == 0:\n",
    "                        decoded_data[sample, 2*i, 2*j] = encoded_data[sample, i, j, c]\n",
    "                    elif c == 1:\n",
    "                        decoded_data[sample, 2*i, 2*j+1] = encoded_data[sample, i, j, c]\n",
    "                    elif c == 2:\n",
    "                        decoded_data[sample, 2*i+1, 2*j] = encoded_data[sample, i, j, c]\n",
    "                    elif c == 3:\n",
    "                        decoded_data[sample, 2*i+1, 2*j+1] = encoded_data[sample, i, j, c]\n",
    "\n",
    "    return decoded_data\n",
    "\n",
    "def flip(decoded_data):\n",
    "    return 1 - decoded_data\n",
    "\n",
    "decoded_data = decode(denoised_states)\n",
    "# decoded_data = flip(decoded_data)\n",
    "print(decoded_data.shape)\n",
    "\n",
    "visualize_data(data_X, decoded_data, sample_index=0)\n",
    "\n",
    "def calculate_statistics(data):\n",
    "    data = data.reshape(data.shape[0], -1)  # Flatten images\n",
    "    mean = np.mean(data, axis=0)\n",
    "    covariance = np.cov(data, rowvar=False)\n",
    "    return mean, covariance\n",
    "\n",
    "def calculate_fid(mu1, sigma1, mu2, sigma2, eps=1e-6):\n",
    "    diff = mu1 - mu2\n",
    "    covmean, _ = scipy.linalg.sqrtm(sigma1 @ sigma2, disp=False)\n",
    "    if np.iscomplexobj(covmean):\n",
    "        covmean = covmean.real\n",
    "    fid = diff @ diff + np.trace(sigma1) + np.trace(sigma2) - 2 * np.trace(covmean)\n",
    "    return fid\n",
    "\n",
    "mu1, sigma1 = calculate_statistics(data_X)\n",
    "mu2, sigma2 = calculate_statistics(decoded_data)\n",
    "\n",
    "fid = calculate_fid(mu1, sigma1, mu2, sigma2)\n",
    "print(f\"FID score: {fid}\")\n",
    "\n",
    "def generate_new_images(model, num_images, input_dim=8*8*4):\n",
    "    model.eval()  # set the model to evaluation mode\n",
    "    with torch.no_grad():\n",
    "        for i in range(num_images):\n",
    "            random_noise = torch.randn(num_images, input_dim)\n",
    "            generated_data = model(random_noise)\n",
    "            generated_data = generated_data.view(num_images, 8, 8, 4).detach().numpy()\n",
    "            # print(generated_data)\n",
    "\n",
    "            # decoded_images = flip(decode(generated_data))\n",
    "            decoded_images = decode(generated_data)\n",
    "            fig, axes = plt.subplots(1, 5, figsize=(20, 4))\n",
    "\n",
    "            # Display each channel separately\n",
    "            for qubit in range(4):\n",
    "                im = axes[qubit].imshow(generated_data[i, :, :, qubit], cmap='viridis')\n",
    "                axes[qubit].set_title(f\"Encoded Channel {qubit+1}\")\n",
    "                fig.colorbar(im, ax=axes[qubit])\n",
    "\n",
    "            # Combined visualization (if applicable)\n",
    "            im = axes[4].imshow(decoded_images[i], cmap='viridis')\n",
    "            axes[4].set_title(\"Decoded Image\")\n",
    "            fig.colorbar(im, ax=axes[4])\n",
    "            \n",
    "            plt.tight_layout()\n",
    "            plt.show()\n",
    "\n",
    "    return decoded_images\n",
    "\n",
    "num_new_images = 10\n",
    "new_images = generate_new_images(model, num_new_images)\n"
   ]
  },
  {
   "cell_type": "markdown",
   "metadata": {},
   "source": [
    "Notes for presentation:\n",
    "- Tried on 10k samples --> cleaner output with less noise thank 1k samples\n",
    "- Trained on 100k samples --> not much difference except slower convergence, but could tune hyperparameters for better performance; significantly slower sample generation\n",
    "- Tried permutations which basically gives the same output as gaussian noise (do permutations follow a normal distribution?)\n",
    "\n",
    "TODO:\n",
    "Reshape data and model inputs to take in 3 channel data\n",
    "- This involvess scrambling each of the channels with the same random unitary/gaussian matrix and get the model to learn distributions in sets of three \n",
    "- Make 100k datasets for QG2 and QG3\n",
    "\n",
    "Questions:\n",
    "- Is there a formula defining the relationship between the three channels? Do they have something in common they wouldn't share with the other channels? How do we verify we've generated the right channels (FID mean doesn't capture thet closeness between the three)?\n"
   ]
  },
  {
   "cell_type": "code",
   "execution_count": 3,
   "metadata": {},
   "outputs": [
    {
     "name": "stdout",
     "output_type": "stream",
     "text": [
      "(100000, 16, 16)\n"
     ]
    }
   ],
   "source": [
    "# Make minimum numbers purple and max yellow\n",
    "# Make sure the FID is an average\n",
    "\n",
    "print(data_X.shape)"
   ]
  }
 ],
 "metadata": {
  "kernelspec": {
   "display_name": ".venv",
   "language": "python",
   "name": "python3"
  },
  "language_info": {
   "codemirror_mode": {
    "name": "ipython",
    "version": 3
   },
   "file_extension": ".py",
   "mimetype": "text/x-python",
   "name": "python",
   "nbconvert_exporter": "python",
   "pygments_lexer": "ipython3",
   "version": "3.11.1"
  }
 },
 "nbformat": 4,
 "nbformat_minor": 2
}
