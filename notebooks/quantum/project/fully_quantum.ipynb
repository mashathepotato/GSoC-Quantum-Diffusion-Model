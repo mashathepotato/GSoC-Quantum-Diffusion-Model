{
 "cells": [
  {
   "cell_type": "code",
   "execution_count": 16,
   "metadata": {},
   "outputs": [
    {
     "name": "stdout",
     "output_type": "stream",
     "text": [
      "torch.Size([100, 8, 8, 4])\n",
      "torch.Size([100, 8, 8, 4])\n"
     ]
    }
   ],
   "source": [
    "import import_ipynb\n",
    "import numpy as np\n",
    "import h5py\n",
    "import torch\n",
    "from angle_encoding import angle_encoding\n",
    "from haar_noising import apply_haar_scrambling\n",
    "\n",
    "filename = \"C:/Users/realc/OneDrive/Documents/GSOC/data/QG_train_normalized_16_xl\"\n",
    "data_X = np.array(h5py.File(filename, \"r\")['X'])\n",
    "\n",
    "num_samples = 100\n",
    "\n",
    "encoded_data = [angle_encoding(data_X, sample) for sample in range(num_samples)]\n",
    "encoded_data = torch.tensor(np.array(encoded_data), dtype=torch.float32)\n",
    "print(encoded_data.shape)\n",
    "\n",
    "scrambled_states = apply_haar_scrambling(np.array(encoded_data), num_samples, seed=42)\n",
    "scrambled_states = torch.tensor(scrambled_states, dtype=torch.float32)\n",
    "print(scrambled_states.shape)\n"
   ]
  },
  {
   "cell_type": "code",
   "execution_count": null,
   "metadata": {},
   "outputs": [],
   "source": []
  }
 ],
 "metadata": {
  "kernelspec": {
   "display_name": ".venv",
   "language": "python",
   "name": "python3"
  },
  "language_info": {
   "codemirror_mode": {
    "name": "ipython",
    "version": 3
   },
   "file_extension": ".py",
   "mimetype": "text/x-python",
   "name": "python",
   "nbconvert_exporter": "python",
   "pygments_lexer": "ipython3",
   "version": "3.11.1"
  }
 },
 "nbformat": 4,
 "nbformat_minor": 2
}
