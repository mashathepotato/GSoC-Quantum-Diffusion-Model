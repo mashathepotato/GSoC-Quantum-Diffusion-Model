{
 "cells": [
  {
   "cell_type": "code",
   "execution_count": 1,
   "metadata": {},
   "outputs": [],
   "source": [
    "from scipy.stats import unitary_group\n",
    "import h5py\n",
    "import numpy as np\n",
    "import matplotlib.pyplot as plt\n",
    "import matplotlib\n",
    "import pennylane as qml\n",
    "from pennylane.templates import RandomLayers\n",
    "\n",
    "import torch\n",
    "import torch.nn as nn\n",
    "import torch.optim as optim"
   ]
  },
  {
   "cell_type": "code",
   "execution_count": null,
   "metadata": {},
   "outputs": [],
   "source": [
    "def haar_random_unitary(seed=None):\n",
    "    if seed is not None:\n",
    "        np.random.seed(seed)\n",
    "    return unitary_group.rvs(4)\n",
    "\n",
    "def apply_haar_scrambling(encoded_data, num_samples, seed):\n",
    "    scrambled_vectors = []\n",
    "\n",
    "    for sample in range(num_samples):\n",
    "        scrambled_vector = []\n",
    "        for i in range(8):\n",
    "            channels = []\n",
    "            for j in range(8):\n",
    "                U = haar_random_unitary(seed)\n",
    "                scrambled_state = np.dot(U, encoded_data[sample, i, j, :])\n",
    "                scrambled_state /= np.linalg.norm(scrambled_state)\n",
    "                channels.append(scrambled_state)\n",
    "\n",
    "                if seed is not None:\n",
    "                    seed += 1\n",
    "            scrambled_vector.append(channels)\n",
    "        scrambled_vectors.append(scrambled_vector)\n",
    "\n",
    "    return np.array(scrambled_vectors)"
   ]
  },
  {
   "cell_type": "code",
   "execution_count": null,
   "metadata": {},
   "outputs": [],
   "source": []
  }
 ],
 "metadata": {
  "kernelspec": {
   "display_name": ".venv",
   "language": "python",
   "name": "python3"
  },
  "language_info": {
   "codemirror_mode": {
    "name": "ipython",
    "version": 3
   },
   "file_extension": ".py",
   "mimetype": "text/x-python",
   "name": "python",
   "nbconvert_exporter": "python",
   "pygments_lexer": "ipython3",
   "version": "3.11.1"
  }
 },
 "nbformat": 4,
 "nbformat_minor": 2
}
