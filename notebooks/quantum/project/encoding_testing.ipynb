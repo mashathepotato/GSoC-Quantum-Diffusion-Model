{
 "cells": [
  {
   "cell_type": "code",
   "execution_count": 1,
   "id": "d748424c",
   "metadata": {},
   "outputs": [
    {
     "name": "stderr",
     "output_type": "stream",
     "text": [
      "c:\\Users\\realc\\OneDrive\\Documents\\GSOC\\.venv\\Lib\\site-packages\\IPython\\core\\magics\\osm.py:417: UserWarning: This is now an optional IPython functionality, setting dhist requires you to install the `pickleshare` library.\n",
      "  self.shell.db['dhist'] = compress_dhist(dhist)[-100:]\n"
     ]
    },
    {
     "name": "stdout",
     "output_type": "stream",
     "text": [
      "C:\\Users\\realc\\OneDrive\\Documents\\GSOC\n"
     ]
    }
   ],
   "source": [
    "%cd C:/Users/realc/OneDrive/Documents/GSOC\n",
    "\n",
    "from utils.post_training import *\n",
    "from utils.statistics import *\n",
    "from utils.plotting import *\n",
    "from utils.encodings import *\n",
    "from utils.statistics import calculate_statistics, calculate_fid, ssim\n",
    "from utils.haar_noising_script import apply_global_haar_scrambling\n",
    "from utils.quantum_diffusion import *\n",
    "\n",
    "import numpy as np\n",
    "import h5py\n",
    "import torch\n",
    "import torch.nn as nn\n",
    "import torch.optim as optim\n",
    "\n",
    "import matplotlib.pyplot as plt\n",
    "from sklearn.model_selection import train_test_split\n",
    "import scipy.linalg\n",
    "\n",
    "import pennylane as qml"
   ]
  },
  {
   "cell_type": "code",
   "execution_count": 3,
   "id": "afddc714",
   "metadata": {},
   "outputs": [
    {
     "name": "stdout",
     "output_type": "stream",
     "text": [
      "Data shape: (1000, 64, 64)\n"
     ]
    }
   ],
   "source": [
    "QG_channel = 1\n",
    "filename = f\"data/QG{QG_channel}_64x64_1k\"\n",
    "num_samples = 10\n",
    "seed = 42\n",
    "n_qubits = 12\n",
    "results_file = f\"data/QG{QG_channel}_results.csv\"\n",
    "\n",
    "data_X = np.array(h5py.File(filename, \"r\")['X'])\n",
    "print(\"Data shape:\", data_X.shape)"
   ]
  },
  {
   "cell_type": "code",
   "execution_count": null,
   "id": "a0b31c0c",
   "metadata": {},
   "outputs": [
    {
     "name": "stdout",
     "output_type": "stream",
     "text": [
      "Data shape: (1000, 64, 64)\n",
      "\n",
      "=== Running with angle encoding ===\n",
      "\n",
      "=== Running with amplitude encoding ===\n",
      "\n",
      "=== Running with sinusoidal encoding ===\n",
      "\n",
      "=== Running with iqp encoding ===\n"
     ]
    }
   ],
   "source": [
    "# Do not run this unless needing to reencode and rescramble everything\n",
    "encoding_methods = {\n",
    "    \"angle\": angle_encoding,\n",
    "    \"amplitude\": amplitude_encoding,\n",
    "    \"sinusoidal\": sinusoidal_encoding,\n",
    "    \"iqp\": iqp_encoding,\n",
    "}\n",
    "\n",
    "def encode_dataset(encoding_fn, data, num_samples, n_qubits):\n",
    "    \"\"\"Encode all samples using a given encoding function.\"\"\"\n",
    "    dev = qml.device(\"default.qubit\", wires=n_qubits)\n",
    "\n",
    "    @qml.qnode(dev)\n",
    "    def circuit(image):\n",
    "        encoding_fn(image, wires=range(n_qubits))\n",
    "        return qml.state()\n",
    "\n",
    "    encoded = [circuit(data[i]) for i in range(num_samples)]\n",
    "    return np.array(encoded)\n",
    "\n",
    "# Loop through all encodings\n",
    "for name, enc_fn in encoding_methods.items():\n",
    "    print(f\"\\n=== Running with {name} encoding ===\")\n",
    "    \n",
    "    if enc_fn == \"angle\":\n",
    "        n_qubits = 4096\n",
    "    \n",
    "    encoded_data = encode_dataset(enc_fn, data_X, num_samples, n_qubits)\n",
    "    # encoded_data_torch = torch.tensor(encoded_data, dtype=torch.float32)\n",
    "    \n",
    "    scrambled_states, used_unitaries = apply_global_haar_scrambling(np.array(encoded_data), seed=42, approx_threshold_qubits=200)\n",
    "    scrambled_torch = torch.tensor(scrambled_states, dtype=torch.float32)\n",
    "\n",
    "    torch.save(torch.tensor(encoded_data, dtype=torch.float32), f\"data/QG{QG_channel}_64x64_{num_samples}_{name}_encoded.pt\")\n",
    "    torch.save(scrambled_torch, f\"data/QG{QG_channel}_64x64_{num_samples}_{name}_scrambled.pt\")\n"
   ]
  },
  {
   "cell_type": "code",
   "execution_count": null,
   "id": "cd7a1e6b",
   "metadata": {},
   "outputs": [],
   "source": [
    "# Define encodings to test\n",
    "encoding_methods = {\n",
    "    \"angle\": angle_encoding,\n",
    "    \"amplitude\": amplitude_encoding,\n",
    "    \"sinusoidal\": sinusoidal_encoding,\n",
    "    \"iqp\": iqp_encoding,\n",
    "}\n",
    "\n",
    "def encode_dataset(encoding_fn, data, num_samples, n_qubits):\n",
    "    \"\"\"Encode all samples using a given encoding function.\"\"\"\n",
    "    dev = qml.device(\"default.qubit\", wires=n_qubits)\n",
    "\n",
    "    @qml.qnode(dev)\n",
    "    def circuit(image):\n",
    "        encoding_fn(image, wires=range(n_qubits))\n",
    "        return qml.state()\n",
    "\n",
    "    encoded = [circuit(data[i]) for i in range(num_samples)]\n",
    "    return np.array(encoded)\n",
    "\n",
    "# Loop through all encodings\n",
    "for name, enc_fn in encoding_methods.items():\n",
    "    print(f\"\\n=== Running with {name} encoding ===\")\n",
    "    \n",
    "    if enc_fn == \"angle\":\n",
    "        n_qubits = 4096\n",
    "    \n",
    "    encoded_data = encode_dataset(enc_fn, data_X, num_samples, n_qubits)\n",
    "    # encoded_data_torch = torch.tensor(encoded_data, dtype=torch.float32)\n",
    "    \n",
    "    scrambled_states, used_unitaries = apply_global_haar_scrambling(np.array(encoded_data), seed=42, approx_threshold_qubits=200)\n",
    "    scrambled_torch = torch.tensor(scrambled_states, dtype=torch.float32)\n",
    "\n",
    "    torch.save(torch.tensor(encoded_data, dtype=torch.float32), f\"data/QG{QG_channel}_64x64_{num_samples}_{name}_encoded.pt\")\n",
    "    torch.save(scrambled_torch, f\"data/QG{QG_channel}_64x64_{num_samples}_{name}_scrambled.pt\")\n"
   ]
  },
  {
   "cell_type": "code",
   "execution_count": null,
   "id": "649fdeb9",
   "metadata": {},
   "outputs": [
    {
     "name": "stdout",
     "output_type": "stream",
     "text": [
      "\n",
      "=== angle encoding ===\n",
      "Loaded encoded and scrambled data.\n"
     ]
    },
    {
     "name": "stderr",
     "output_type": "stream",
     "text": [
      "C:\\Users\\realc\\AppData\\Local\\Temp\\ipykernel_10016\\3037138951.py:6: FutureWarning: You are using `torch.load` with `weights_only=False` (the current default value), which uses the default pickle module implicitly. It is possible to construct malicious pickle data which will execute arbitrary code during unpickling (See https://github.com/pytorch/pytorch/blob/main/SECURITY.md#untrusted-models for more details). In a future release, the default value for `weights_only` will be flipped to `True`. This limits the functions that could be executed during unpickling. Arbitrary objects will no longer be allowed to be loaded via this mode unless they are explicitly allowlisted by the user via `torch.serialization.add_safe_globals`. We recommend you start setting `weights_only=True` for any use case where you don't have full control of the loaded file. Please open an issue on GitHub for any issues related to this experimental feature.\n",
      "  encoded = torch.load(f\"data/QG{QG_channel}_64x64_{num_samples}_{enc}_encoded.pt\")\n",
      "C:\\Users\\realc\\AppData\\Local\\Temp\\ipykernel_10016\\3037138951.py:7: FutureWarning: You are using `torch.load` with `weights_only=False` (the current default value), which uses the default pickle module implicitly. It is possible to construct malicious pickle data which will execute arbitrary code during unpickling (See https://github.com/pytorch/pytorch/blob/main/SECURITY.md#untrusted-models for more details). In a future release, the default value for `weights_only` will be flipped to `True`. This limits the functions that could be executed during unpickling. Arbitrary objects will no longer be allowed to be loaded via this mode unless they are explicitly allowlisted by the user via `torch.serialization.add_safe_globals`. We recommend you start setting `weights_only=True` for any use case where you don't have full control of the loaded file. Please open an issue on GitHub for any issues related to this experimental feature.\n",
      "  scrambled = torch.load(f\"data/QG{QG_channel}_64x64_{num_samples}_{enc}_scrambled.pt\")\n"
     ]
    },
    {
     "name": "stdout",
     "output_type": "stream",
     "text": [
      "Epoch [1/50] - Loss: 0.0046, Val Loss: 0.0025\n"
     ]
    }
   ],
   "source": [
    "encodings = [\"angle\", \"amplitude\", \"sinusoidal\", \"iqp\"]\n",
    "results = []\n",
    "\n",
    "for enc in encodings:\n",
    "    print(f\"\\n=== {enc} encoding ===\")\n",
    "    encoded = torch.load(f\"data/QG{QG_channel}_64x64_{num_samples}_{enc}_encoded.pt\")\n",
    "    scrambled = torch.load(f\"data/QG{QG_channel}_64x64_{num_samples}_{enc}_scrambled.pt\")\n",
    "    print(\"Loaded encoded and scrambled data.\")\n",
    "\n",
    "    train_enc, val_enc, train_scr, val_scr = train_test_split(\n",
    "        encoded, scrambled, test_size=0.2, random_state=42, shuffle=True\n",
    "    )\n",
    "\n",
    "    model, reconstructed = train_model(train_enc, val_enc, train_scr, val_scr)\n",
    "\n",
    "    # Metrics\n",
    "    mu_real, sigma_real = calculate_statistics(data_X[:len(reconstructed)])\n",
    "    mu_fake, sigma_fake = calculate_statistics(reconstructed)\n",
    "    fid = calculate_fid(mu_real, sigma_real, mu_fake, sigma_fake)\n",
    "    mean_ssim = calculate_ssim(data_X, reconstructed)\n",
    "\n",
    "    results.append({\"encoding\": enc, \"FID\": fid, \"SSIM\": mean_ssim})\n"
   ]
  }
 ],
 "metadata": {
  "kernelspec": {
   "display_name": ".venv",
   "language": "python",
   "name": "python3"
  },
  "language_info": {
   "codemirror_mode": {
    "name": "ipython",
    "version": 3
   },
   "file_extension": ".py",
   "mimetype": "text/x-python",
   "name": "python",
   "nbconvert_exporter": "python",
   "pygments_lexer": "ipython3",
   "version": "3.11.1"
  }
 },
 "nbformat": 4,
 "nbformat_minor": 5
}
