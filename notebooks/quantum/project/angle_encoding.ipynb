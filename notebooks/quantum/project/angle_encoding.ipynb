{
 "cells": [
  {
   "cell_type": "code",
   "execution_count": 19,
   "metadata": {},
   "outputs": [],
   "source": [
    "from scipy.stats import unitary_group\n",
    "import h5py\n",
    "import numpy as np\n",
    "import matplotlib.pyplot as plt\n",
    "import matplotlib\n",
    "import pennylane as qml\n",
    "from pennylane.templates import RandomLayers\n",
    "\n",
    "import torch\n",
    "import torch.nn as nn\n",
    "import torch.optim as optim"
   ]
  },
  {
   "cell_type": "code",
   "execution_count": 20,
   "metadata": {},
   "outputs": [],
   "source": [
    "filename = \"C:/Users/realc/OneDrive/Documents/GSOC/data/QG_train_normalized_16_xl\"\n",
    "data_X = np.array(h5py.File(filename, \"r\")['X'])\n",
    "\n",
    "num_samples = 100\n",
    "seed = 42\n",
    "\n",
    "num_qubits = 64\n",
    "dev = qml.device(\"default.qubit\", wires=num_qubits)\n",
    "\n",
    "@qml.qnode(dev)\n",
    "def angle_circuit(phi):\n",
    "    for j in range(4):\n",
    "        qml.RX(np.pi * phi[j], wires=j)\n",
    "    return [qml.expval(qml.PauliZ(j)) for j in range(4)]\n",
    "\n",
    "def angle_encoding(data, sample=0):\n",
    "    out = np.zeros((8, 8, 4))\n",
    "    for i in range(0, 16, 2):\n",
    "        for j in range(0, 16, 2):\n",
    "            q_results = angle_circuit(\n",
    "                [\n",
    "                    data[sample, i, j],\n",
    "                    data[sample, i, j+1],\n",
    "                    data[sample, i+1, j],\n",
    "                    data[sample, i+1, j+1]\n",
    "                ]\n",
    "            )\n",
    "            for c in range(4):\n",
    "                out[i//2, j//2, c] = q_results[c]\n",
    "    return out\n",
    "\n",
    "def haar_random_unitary(seed=None):\n",
    "    if seed is not None:\n",
    "        np.random.seed(seed)\n",
    "    return unitary_group.rvs(4)\n",
    "\n",
    "def scramble_state_vectors(encoded_data, seed):\n",
    "    scrambled_vectors = []\n",
    "\n",
    "    for sample in range(num_samples):\n",
    "        scrambled_vector = []\n",
    "        for i in range(8):\n",
    "            channels = []\n",
    "            for j in range(8):\n",
    "                U = haar_random_unitary(seed)\n",
    "                scrambled_state = np.dot(U, encoded_data[sample, i, j, :])\n",
    "                scrambled_state /= np.linalg.norm(scrambled_state)\n",
    "                channels.append(scrambled_state)\n",
    "\n",
    "                if seed is not None:\n",
    "                    seed += 1\n",
    "            scrambled_vector.append(channels)\n",
    "        scrambled_vectors.append(scrambled_vector)\n",
    "\n",
    "    return np.array(scrambled_vectors)"
   ]
  },
  {
   "cell_type": "code",
   "execution_count": 22,
   "metadata": {},
   "outputs": [],
   "source": [
    "encoded_data = [angle_encoding(data_X, sample) for sample in range(num_samples)]\n",
    "encoded_data = np.array(encoded_data)\n",
    "encoded_data = torch.tensor(encoded_data, dtype=torch.float32)"
   ]
  }
 ],
 "metadata": {
  "kernelspec": {
   "display_name": ".venv",
   "language": "python",
   "name": "python3"
  },
  "language_info": {
   "codemirror_mode": {
    "name": "ipython",
    "version": 3
   },
   "file_extension": ".py",
   "mimetype": "text/x-python",
   "name": "python",
   "nbconvert_exporter": "python",
   "pygments_lexer": "ipython3",
   "version": "3.11.1"
  }
 },
 "nbformat": 4,
 "nbformat_minor": 2
}
